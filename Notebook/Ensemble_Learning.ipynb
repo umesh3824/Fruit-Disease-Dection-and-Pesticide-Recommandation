{
 "cells": [
  {
   "cell_type": "code",
   "execution_count": null,
   "metadata": {
    "colab": {
     "base_uri": "https://localhost:8080/"
    },
    "id": "X1kJmw2_YHQr",
    "outputId": "4ff9a5ee-55ca-484b-ca44-27d206779e1a"
   },
   "outputs": [
    {
     "name": "stdout",
     "output_type": "stream",
     "text": [
      "Mounted at /content/drive\n"
     ]
    }
   ],
   "source": [
    "from google.colab import drive\n",
    "\n",
    "# Mount Google Drive\n",
    "drive.mount('/content/drive')\n",
    "\n"
   ]
  },
  {
   "cell_type": "code",
   "execution_count": null,
   "metadata": {
    "id": "LS2YC0e_L4Zz"
   },
   "outputs": [],
   "source": [
    "import os\n",
    "import numpy as np\n",
    "import cv2\n",
    "from sklearn.ensemble import VotingClassifier\n",
    "from sklearn.metrics import accuracy_score\n",
    "from sklearn.tree import DecisionTreeClassifier\n",
    "from sklearn.ensemble import RandomForestClassifier\n",
    "from sklearn.neighbors import KNeighborsClassifier\n",
    "from sklearn.svm import SVC\n",
    "from sklearn.model_selection import GridSearchCV\n",
    "import matplotlib.pyplot as plt\n",
    "\n"
   ]
  },
  {
   "cell_type": "code",
   "execution_count": null,
   "metadata": {
    "id": "15At9ZolNRCu"
   },
   "outputs": [],
   "source": [
    "# Define the paths to the train and test folders\n",
    "train_folder_path = r'/content/drive/MyDrive/Projects/Projects/Apple Dataset/apple_disease_classification/Train/'\n",
    "test_folder_path = r'/content/drive/MyDrive/Projects/Projects/Apple Dataset/apple_disease_classification/Test/'\n",
    "\n",
    "# Initialize lists to store train and test images and labels\n",
    "train_images = []\n",
    "train_labels = []\n",
    "test_images = []\n",
    "test_labels = []\n",
    "\n",
    "# Loop through each subfolder in the train folder\n",
    "for subfolder in os.listdir(train_folder_path):\n",
    "    subfolder_path = os.path.join(train_folder_path, subfolder)\n",
    "    \n",
    "    # Loop through each image in the subfolder\n",
    "    for image_name in os.listdir(subfolder_path):\n",
    "        image_path = os.path.join(subfolder_path, image_name)\n",
    "        image = cv2.imread(image_path)\n",
    "        image = cv2.resize(image, (150, 150))  # Resize as per your requirement\n",
    "        train_images.append(image)\n",
    "        train_labels.append(subfolder)\n",
    "    \n",
    "# Loop through each subfolder in the test folder\n",
    "for subfolder in os.listdir(test_folder_path):\n",
    "    subfolder_path = os.path.join(test_folder_path, subfolder)\n",
    "    \n",
    "    # Loop through each image in the subfolder\n",
    "    for image_name in os.listdir(subfolder_path):\n",
    "        image_path = os.path.join(subfolder_path, image_name)\n",
    "        image = cv2.imread(image_path)\n",
    "        image = cv2.resize(image, (150, 150))  # Resize as per your requirement\n",
    "        test_images.append(image)\n",
    "        test_labels.append(subfolder)\n",
    "\n",
    "# Convert the lists to NumPy arrays\n",
    "train_images = np.array(train_images)\n",
    "train_labels = np.array(train_labels)\n",
    "test_images = np.array(test_images)\n",
    "test_labels = np.array(test_labels)\n"
   ]
  },
  {
   "cell_type": "code",
   "execution_count": null,
   "metadata": {
    "colab": {
     "base_uri": "https://localhost:8080/"
    },
    "id": "1vxTV7C1NTWs",
    "outputId": "9e933faf-8c05-456c-a237-ceb76020535b"
   },
   "outputs": [
    {
     "name": "stdout",
     "output_type": "stream",
     "text": [
      "Accuracy: 0.6333333333333333\n"
     ]
    }
   ],
   "source": [
    "# Create individual classifiers\n",
    "classifier_1 = DecisionTreeClassifier()\n",
    "classifier_2 = RandomForestClassifier()\n",
    "classifier_3 = KNeighborsClassifier()\n",
    "classifier_4 = SVC()\n",
    "\n",
    "# Define the ensemble classifier using VotingClassifier\n",
    "ensemble_classifier = VotingClassifier(estimators=[\n",
    "    ('dt', classifier_1),\n",
    "    ('rf', classifier_2),\n",
    "    ('knn', classifier_3),\n",
    "    ('svc', classifier_4),\n",
    "], voting='hard')\n",
    "\n",
    "# Flatten the image arrays\n",
    "train_images_flat = train_images.reshape(train_images.shape[0], -1)\n",
    "test_images_flat = test_images.reshape(test_images.shape[0], -1)\n",
    "\n",
    "# Define the hyperparameter grid\n",
    "param_grid = {\n",
    "    'dt__max_depth': [None, 10, 20],\n",
    "    'rf__n_estimators': [50, 100, 200],\n",
    "    'knn__n_neighbors': [3, 5, 7],\n",
    "    'svc__C': [0.1, 1, 10],\n",
    "}\n",
    "\n",
    "# Perform grid search for hyperparameter tuning\n",
    "grid_search = GridSearchCV(estimator=ensemble_classifier, param_grid=param_grid, cv=3)\n",
    "grid_search.fit(train_images_flat, train_labels)\n",
    "\n",
    "# Get the best hyperparameters\n",
    "best_params = grid_search.best_params_\n",
    "\n",
    "# Train the ensemble classifier with the best hyperparameters\n",
    "ensemble_classifier.set_params(**best_params)\n",
    "ensemble_classifier.fit(train_images_flat, train_labels)\n",
    "\n",
    "# Make predictions on the test set\n",
    "y_pred = ensemble_classifier.predict(test_images_flat)\n",
    "\n",
    "# Calculate accuracy\n",
    "accuracy = accuracy_score(test_labels, y_pred)\n",
    "print(\"Accuracy:\", accuracy)\n"
   ]
  },
  {
   "cell_type": "code",
   "execution_count": null,
   "metadata": {
    "colab": {
     "base_uri": "https://localhost:8080/",
     "height": 75
    },
    "id": "XqaZDbuopG_o",
    "outputId": "0591153b-4a5a-418f-ab1d-2db2de0eca40"
   },
   "outputs": [
    {
     "data": {
      "text/html": [
       "<style>#sk-container-id-1 {color: black;background-color: white;}#sk-container-id-1 pre{padding: 0;}#sk-container-id-1 div.sk-toggleable {background-color: white;}#sk-container-id-1 label.sk-toggleable__label {cursor: pointer;display: block;width: 100%;margin-bottom: 0;padding: 0.3em;box-sizing: border-box;text-align: center;}#sk-container-id-1 label.sk-toggleable__label-arrow:before {content: \"▸\";float: left;margin-right: 0.25em;color: #696969;}#sk-container-id-1 label.sk-toggleable__label-arrow:hover:before {color: black;}#sk-container-id-1 div.sk-estimator:hover label.sk-toggleable__label-arrow:before {color: black;}#sk-container-id-1 div.sk-toggleable__content {max-height: 0;max-width: 0;overflow: hidden;text-align: left;background-color: #f0f8ff;}#sk-container-id-1 div.sk-toggleable__content pre {margin: 0.2em;color: black;border-radius: 0.25em;background-color: #f0f8ff;}#sk-container-id-1 input.sk-toggleable__control:checked~div.sk-toggleable__content {max-height: 200px;max-width: 100%;overflow: auto;}#sk-container-id-1 input.sk-toggleable__control:checked~label.sk-toggleable__label-arrow:before {content: \"▾\";}#sk-container-id-1 div.sk-estimator input.sk-toggleable__control:checked~label.sk-toggleable__label {background-color: #d4ebff;}#sk-container-id-1 div.sk-label input.sk-toggleable__control:checked~label.sk-toggleable__label {background-color: #d4ebff;}#sk-container-id-1 input.sk-hidden--visually {border: 0;clip: rect(1px 1px 1px 1px);clip: rect(1px, 1px, 1px, 1px);height: 1px;margin: -1px;overflow: hidden;padding: 0;position: absolute;width: 1px;}#sk-container-id-1 div.sk-estimator {font-family: monospace;background-color: #f0f8ff;border: 1px dotted black;border-radius: 0.25em;box-sizing: border-box;margin-bottom: 0.5em;}#sk-container-id-1 div.sk-estimator:hover {background-color: #d4ebff;}#sk-container-id-1 div.sk-parallel-item::after {content: \"\";width: 100%;border-bottom: 1px solid gray;flex-grow: 1;}#sk-container-id-1 div.sk-label:hover label.sk-toggleable__label {background-color: #d4ebff;}#sk-container-id-1 div.sk-serial::before {content: \"\";position: absolute;border-left: 1px solid gray;box-sizing: border-box;top: 0;bottom: 0;left: 50%;z-index: 0;}#sk-container-id-1 div.sk-serial {display: flex;flex-direction: column;align-items: center;background-color: white;padding-right: 0.2em;padding-left: 0.2em;position: relative;}#sk-container-id-1 div.sk-item {position: relative;z-index: 1;}#sk-container-id-1 div.sk-parallel {display: flex;align-items: stretch;justify-content: center;background-color: white;position: relative;}#sk-container-id-1 div.sk-item::before, #sk-container-id-1 div.sk-parallel-item::before {content: \"\";position: absolute;border-left: 1px solid gray;box-sizing: border-box;top: 0;bottom: 0;left: 50%;z-index: -1;}#sk-container-id-1 div.sk-parallel-item {display: flex;flex-direction: column;z-index: 1;position: relative;background-color: white;}#sk-container-id-1 div.sk-parallel-item:first-child::after {align-self: flex-end;width: 50%;}#sk-container-id-1 div.sk-parallel-item:last-child::after {align-self: flex-start;width: 50%;}#sk-container-id-1 div.sk-parallel-item:only-child::after {width: 0;}#sk-container-id-1 div.sk-dashed-wrapped {border: 1px dashed gray;margin: 0 0.4em 0.5em 0.4em;box-sizing: border-box;padding-bottom: 0.4em;background-color: white;}#sk-container-id-1 div.sk-label label {font-family: monospace;font-weight: bold;display: inline-block;line-height: 1.2em;}#sk-container-id-1 div.sk-label-container {text-align: center;}#sk-container-id-1 div.sk-container {/* jupyter's `normalize.less` sets `[hidden] { display: none; }` but bootstrap.min.css set `[hidden] { display: none !important; }` so we also need the `!important` here to be able to override the default hidden behavior on the sphinx rendered scikit-learn.org. See: https://github.com/scikit-learn/scikit-learn/issues/21755 */display: inline-block !important;position: relative;}#sk-container-id-1 div.sk-text-repr-fallback {display: none;}</style><div id=\"sk-container-id-1\" class=\"sk-top-container\"><div class=\"sk-text-repr-fallback\"><pre>SVC(C=10)</pre><b>In a Jupyter environment, please rerun this cell to show the HTML representation or trust the notebook. <br />On GitHub, the HTML representation is unable to render, please try loading this page with nbviewer.org.</b></div><div class=\"sk-container\" hidden><div class=\"sk-item\"><div class=\"sk-estimator sk-toggleable\"><input class=\"sk-toggleable__control sk-hidden--visually\" id=\"sk-estimator-id-1\" type=\"checkbox\" checked><label for=\"sk-estimator-id-1\" class=\"sk-toggleable__label sk-toggleable__label-arrow\">SVC</label><div class=\"sk-toggleable__content\"><pre>SVC(C=10)</pre></div></div></div></div></div>"
      ],
      "text/plain": [
       "SVC(C=10)"
      ]
     },
     "execution_count": 31,
     "metadata": {},
     "output_type": "execute_result"
    }
   ],
   "source": [
    "import seaborn as sns\n",
    "from sklearn.metrics import confusion_matrix\n",
    "\n",
    "# Define the best hyperparameters for each classifier\n",
    "best_params_dt = {'max_depth': grid_search.best_params_['dt__max_depth']}\n",
    "best_params_rf = {'n_estimators': grid_search.best_params_['rf__n_estimators']}\n",
    "best_params_knn = {'n_neighbors': grid_search.best_params_['knn__n_neighbors']}\n",
    "best_params_svc = {'C': grid_search.best_params_['svc__C']}\n",
    "\n",
    "# Retrain individual classifiers with best hyperparameters\n",
    "classifier_1.set_params(**best_params_dt)\n",
    "classifier_2.set_params(**best_params_rf)\n",
    "classifier_3.set_params(**best_params_knn)\n",
    "classifier_4.set_params(**best_params_svc)\n",
    "\n",
    "# Fit each classifier with training data\n",
    "classifier_1.fit(train_images_flat, train_labels)\n",
    "classifier_2.fit(train_images_flat, train_labels)\n",
    "classifier_3.fit(train_images_flat, train_labels)\n",
    "classifier_4.fit(train_images_flat, train_labels)\n",
    "\n"
   ]
  },
  {
   "cell_type": "code",
   "execution_count": null,
   "metadata": {
    "colab": {
     "base_uri": "https://localhost:8080/",
     "height": 608
    },
    "id": "87SfwD7yxWVG",
    "outputId": "546dfbb2-101f-4503-b5d7-82c73d8ae8cc"
   },
   "outputs": [
    {
     "data": {
      "image/png": "[encoded data removed]",
      "text/plain": [
       "<Figure size 800x600 with 1 Axes>"
      ]
     },
     "metadata": {},
     "output_type": "display_data"
    }
   ],
   "source": [
    "import seaborn as sns\n",
    "import matplotlib.pyplot as plt\n",
    "\n",
    "# Define the best hyperparameters for each classifier\n",
    "best_params_dt = {'max_depth': grid_search.best_params_['dt__max_depth']}\n",
    "best_params_rf = {'n_estimators': grid_search.best_params_['rf__n_estimators']}\n",
    "best_params_knn = {'n_neighbors': grid_search.best_params_['knn__n_neighbors']}\n",
    "best_params_svc = {'C': grid_search.best_params_['svc__C']}\n",
    "\n",
    "# Retrain individual classifiers with best hyperparameters\n",
    "classifier_1.set_params(**best_params_dt)\n",
    "classifier_2.set_params(**best_params_rf)\n",
    "classifier_3.set_params(**best_params_knn)\n",
    "classifier_4.set_params(**best_params_svc)\n",
    "\n",
    "# Fit each classifier with training data\n",
    "classifier_1.fit(train_images_flat, train_labels)\n",
    "classifier_2.fit(train_images_flat, train_labels)\n",
    "classifier_3.fit(train_images_flat, train_labels)\n",
    "classifier_4.fit(train_images_flat, train_labels)\n",
    "\n",
    "# Calculate accuracy scores with best hyperparameters\n",
    "accuracy_scores = [accuracy] + [\n",
    "    accuracy_score(test_labels, classifier.predict(test_images_flat)) \n",
    "    for classifier in [classifier_1, classifier_2, classifier_3, classifier_4]\n",
    "]\n",
    "\n",
    "# Comparative analysis of the ensemble classifier and individual classifiers\n",
    "classifiers = ['Ensemble', 'Decision Tree', 'Random Forest', 'KNN', 'SVC']\n",
    "\n",
    "# Set the style and context for the plot\n",
    "sns.set_style(\"whitegrid\")\n",
    "sns.set_context(\"paper\")\n",
    "\n",
    "# Plot the accuracy scores\n",
    "plt.figure(figsize=(8, 6))\n",
    "ax = sns.barplot(x=classifiers, y=accuracy_scores, palette=\"Blues_d\")\n",
    "plt.xlabel('Classifier')\n",
    "plt.ylabel('Accuracy')\n",
    "plt.title('Comparative Analysis of Classifiers')\n",
    "plt.ylim(0, 1)  # Set the y-axis limits to better display the accuracy range\n",
    "\n",
    "# Display the values on top of each bar\n",
    "for i, v in enumerate(accuracy_scores):\n",
    "    ax.text(i, v + 0.01, str(round(v, 2)), ha='center')\n",
    "\n",
    "plt.tight_layout()  # Adjust spacing for better visual presentation\n",
    "plt.show()\n"
   ]
  },
  {
   "cell_type": "code",
   "execution_count": null,
   "metadata": {
    "colab": {
     "base_uri": "https://localhost:8080/"
    },
    "id": "usvSuyM8sAUQ",
    "outputId": "6ad1a7f1-1d19-4228-fc85-d152b9af3d18"
   },
   "outputs": [
    {
     "name": "stdout",
     "output_type": "stream",
     "text": [
      "{'dt__max_depth': 10, 'knn__n_neighbors': 3, 'rf__n_estimators': 200, 'svc__C': 10}\n"
     ]
    }
   ],
   "source": [
    "#print best hyperparameters\n",
    "print(best_params)"
   ]
  },
  {
   "cell_type": "code",
   "execution_count": null,
   "metadata": {
    "id": "f5h962S_0UrC"
   },
   "outputs": [],
   "source": [
    "from sklearn.model_selection import GridSearchCV\n",
    "from sklearn.ensemble import RandomForestClassifier\n",
    "\n",
    "# Define the parameter grid for grid search\n",
    "param_grid = {\n",
    "    'n_estimators': [100, 200, 300],  # Number of trees in the forest\n",
    "    'max_depth': [None, 10, 20],  # Maximum depth of each tree\n",
    "    'min_samples_split': [2, 5, 10],  # Minimum number of samples required to split an internal node\n",
    "    'min_samples_leaf': [1, 2, 4]  # Minimum number of samples required to be at a leaf node\n",
    "}\n",
    "\n",
    "# Create a new RF model\n",
    "rf_model = RandomForestClassifier()\n",
    "\n",
    "# Perform grid search\n",
    "grid_search = GridSearchCV(estimator=rf_model, param_grid=param_grid, cv=5)\n",
    "\n",
    "# Fit the grid search to the training data\n",
    "grid_search.fit(train_images_flat, train_labels)\n",
    "\n",
    "# Get the best hyperparameters found by grid search\n",
    "best_params_rf = grid_search.best_params_\n",
    "\n",
    "# Train the RF model with the best hyperparameters\n",
    "rf_model.set_params(**best_params_rf)\n",
    "rf_model.fit(train_images_flat, train_labels)\n",
    "\n",
    "# Evaluate the RF model on the test set\n",
    "accuracy_rf = accuracy_score(test_labels, rf_model.predict(test_images_flat))\n"
   ]
  },
  {
   "cell_type": "code",
   "execution_count": null,
   "metadata": {
    "colab": {
     "base_uri": "https://localhost:8080/"
    },
    "id": "771ugx_B81Of",
    "outputId": "6f621c2d-282f-40b4-fa75-8a3d0f282c08"
   },
   "outputs": [
    {
     "name": "stdout",
     "output_type": "stream",
     "text": [
      "0.6916666666666667\n"
     ]
    }
   ],
   "source": [
    "print(accuracy_rf)"
   ]
  },
  {
   "cell_type": "code",
   "execution_count": null,
   "metadata": {
    "colab": {
     "base_uri": "https://localhost:8080/"
    },
    "id": "GhMJh-Uf11kI",
    "outputId": "61f5c134-d231-4542-ad94-87500eed36d3"
   },
   "outputs": [
    {
     "name": "stdout",
     "output_type": "stream",
     "text": [
      "{'max_depth': 20, 'min_samples_leaf': 1, 'min_samples_split': 2, 'n_estimators': 300}\n"
     ]
    }
   ],
   "source": [
    "#print best RF parameters\n",
    "print(best_params_rf)"
   ]
  },
  {
   "cell_type": "code",
   "execution_count": null,
   "metadata": {
    "id": "-7k6-1R0OsF0"
   },
   "outputs": [],
   "source": [
    "import os\n",
    "import pickle\n",
    "\n",
    "# Define the directory path\n",
    "directory = '/content/drive/MyDrive/Projects/Projects/Apple Dataset/'\n",
    "\n",
    "# Save the trained model to a file\n",
    "model_filename = 'ensemble_model.pkl'\n",
    "model_path = os.path.join(directory, model_filename)\n",
    "\n",
    "with open(model_path, 'wb') as file:\n",
    "    pickle.dump(ensemble_classifier, file)\n"
   ]
  },
  {
   "cell_type": "code",
   "execution_count": null,
   "metadata": {
    "id": "Ag2b_eitOxS3"
   },
   "outputs": [],
   "source": [
    "import pickle\n",
    "import cv2\n",
    "import numpy as np\n",
    "\n",
    "# Define the path to the saved model\n",
    "model_filename = '/content/drive/MyDrive/Projects/Projects/Apple Dataset/ensemble_model.pkl'\n",
    "\n",
    "# Load the saved model\n",
    "with open(model_filename, 'rb') as file:\n",
    "    loaded_model = pickle.load(file)\n",
    "\n",
    "# Load and preprocess a new image for prediction\n",
    "new_image_path = '/path/to/new/image.jpg'\n",
    "new_image = cv2.imread(new_image_path)\n",
    "new_image = cv2.resize(new_image, (150, 150))  # Resize as per your requirement\n",
    "new_image = np.array([new_image])  # Convert to a 4D array\n",
    "\n",
    "# Make predictions using the loaded model\n",
    "predictions = loaded_model.predict(new_image)\n",
    "\n",
    "# Get the predicted disease category\n",
    "predicted_category = predictions[0]\n"
   ]
  },
  {
   "cell_type": "code",
   "execution_count": 3,
   "metadata": {},
   "outputs": [
    {
     "data": {
      "image/png": "[encoded data removed]",
      "text/plain": [
       "<Figure size 576x432 with 1 Axes>"
      ]
     },
     "metadata": {},
     "output_type": "display_data"
    }
   ],
   "source": [
    "import seaborn as sns\n",
    "import matplotlib.pyplot as plt\n",
    "# Comparative analysis of the ensemble classifier and individual classifiers\n",
    "classifiers = ['ResNet50 (CNN)', 'Random Forest', 'Ensemble', 'KNN', 'SVC', 'Decision Tree']\n",
    "accuracy_scores = [0.80, 0.69, 0.63, 0.59, 0.55, 0.53]\n",
    "# Set the style and context for the plot\n",
    "sns.set_style(\"whitegrid\")\n",
    "sns.set_context(\"paper\")\n",
    "\n",
    "# Plot the accuracy scores\n",
    "plt.figure(figsize=(8, 6))\n",
    "ax = sns.barplot(x=classifiers, y=accuracy_scores, palette=\"Blues_d\")\n",
    "plt.xlabel('Classifier')\n",
    "plt.ylabel('Accuracy')\n",
    "plt.title('Comparative Analysis of Classifiers')\n",
    "plt.ylim(0, 1)  # Set the y-axis limits to better display the accuracy range\n",
    "\n",
    "# Display the values on top of each bar\n",
    "for i, v in enumerate(accuracy_scores):\n",
    "    ax.text(i, v + 0.01, str(round(v, 2)), ha='center')\n",
    "\n",
    "plt.tight_layout()  # Adjust spacing for better visual presentation\n",
    "plt.show()\n"
   ]
  },
  {
   "cell_type": "code",
   "execution_count": null,
   "metadata": {},
   "outputs": [],
   "source": []
  }
 ],
 "metadata": {
  "accelerator": "GPU",
  "colab": {
   "gpuType": "T4",
   "provenance": []
  },
  "gpuClass": "standard",
  "kernelspec": {
   "display_name": "Python 3 (ipykernel)",
   "language": "python",
   "name": "python3"
  },
  "language_info": {
   "codemirror_mode": {
    "name": "ipython",
    "version": 3
   },
   "file_extension": ".py",
   "mimetype": "text/x-python",
   "name": "python",
   "nbconvert_exporter": "python",
   "pygments_lexer": "ipython3",
   "version": "3.9.7"
  }
 },
 "nbformat": 4,
 "nbformat_minor": 1
}
