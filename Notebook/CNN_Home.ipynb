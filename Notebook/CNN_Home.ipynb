{
 "cells": [
  {
   "cell_type": "code",
   "execution_count": 1,
   "id": "b5d805f6",
   "metadata": {},
   "outputs": [],
   "source": [
    "import warnings\n",
    "import os\n",
    "import keras\n",
    "import numpy as np\n",
    "\n",
    "from keras.models import Sequential,load_model\n",
    "from keras.layers import Dense, Dropout, Activation, Flatten\n",
    "from keras.layers import Conv2D, MaxPooling2D\n",
    "from keras.preprocessing.image import ImageDataGenerator\n",
    "\n",
    "Generator = ImageDataGenerator()"
   ]
  },
  {
   "cell_type": "code",
   "execution_count": 2,
   "id": "a7e87038",
   "metadata": {},
   "outputs": [
    {
     "data": {
      "application/vnd.jupyter.widget-view+json": {
       "model_id": "68f62bcf225b4d3ca75acb0b4a079c53",
       "version_major": 2,
       "version_minor": 0
      },
      "text/plain": [
       "FileUpload(value={}, accept='image/*', description='Upload')"
      ]
     },
     "metadata": {},
     "output_type": "display_data"
    }
   ],
   "source": [
    "#upload file With button FileUpload \n",
    "\n",
    "import ipywidgets as widgets\n",
    "widgets.IntSlider()\n",
    "from IPython.display import display\n",
    "w = widgets.IntSlider()\n",
    "uploader = widgets.FileUpload(\n",
    "    accept='image/*',  # Accepted file extension e.g. '.txt', '.pdf', 'image/*', 'image/*,.pdf'\n",
    "    multiple=False  # True to accept multiple files upload else False\n",
    ")\n",
    "\n",
    "display(uploader)"
   ]
  },
  {
   "cell_type": "code",
   "execution_count": 3,
   "id": "e1e83c72",
   "metadata": {},
   "outputs": [
    {
     "ename": "IndexError",
     "evalue": "list index out of range",
     "output_type": "error",
     "traceback": [
      "\u001b[1;31m---------------------------------------------------------------------------\u001b[0m",
      "\u001b[1;31mIndexError\u001b[0m                                Traceback (most recent call last)",
      "\u001b[1;32m~\\AppData\\Local\\Temp/ipykernel_3252/617305681.py\u001b[0m in \u001b[0;36m<module>\u001b[1;34m\u001b[0m\n\u001b[1;32m----> 1\u001b[1;33m \u001b[1;32mif\u001b[0m\u001b[1;33m(\u001b[0m\u001b[0muploader\u001b[0m\u001b[1;33m.\u001b[0m\u001b[0mdata\u001b[0m\u001b[1;33m[\u001b[0m\u001b[1;36m0\u001b[0m\u001b[1;33m]\u001b[0m\u001b[1;33m!=\u001b[0m\u001b[1;32mNone\u001b[0m\u001b[1;33m)\u001b[0m\u001b[1;33m:\u001b[0m\u001b[1;33m\u001b[0m\u001b[1;33m\u001b[0m\u001b[0m\n\u001b[0m\u001b[0;32m      2\u001b[0m     \u001b[1;32mwith\u001b[0m \u001b[0mopen\u001b[0m\u001b[1;33m(\u001b[0m\u001b[1;34m\"input.jpg\"\u001b[0m\u001b[1;33m,\u001b[0m \u001b[1;34m\"w+b\"\u001b[0m\u001b[1;33m)\u001b[0m \u001b[1;32mas\u001b[0m \u001b[0mi\u001b[0m\u001b[1;33m:\u001b[0m\u001b[1;33m\u001b[0m\u001b[1;33m\u001b[0m\u001b[0m\n\u001b[0;32m      3\u001b[0m         \u001b[0mi\u001b[0m\u001b[1;33m.\u001b[0m\u001b[0mwrite\u001b[0m\u001b[1;33m(\u001b[0m\u001b[0muploader\u001b[0m\u001b[1;33m.\u001b[0m\u001b[0mdata\u001b[0m\u001b[1;33m[\u001b[0m\u001b[1;36m0\u001b[0m\u001b[1;33m]\u001b[0m\u001b[1;33m)\u001b[0m\u001b[1;33m\u001b[0m\u001b[1;33m\u001b[0m\u001b[0m\n\u001b[0;32m      4\u001b[0m \u001b[1;33m\u001b[0m\u001b[0m\n\u001b[0;32m      5\u001b[0m     \u001b[1;32mfrom\u001b[0m \u001b[0mtensorflow\u001b[0m\u001b[1;33m.\u001b[0m\u001b[0mkeras\u001b[0m\u001b[1;33m.\u001b[0m\u001b[0mpreprocessing\u001b[0m \u001b[1;32mimport\u001b[0m \u001b[0mimage\u001b[0m\u001b[1;33m\u001b[0m\u001b[1;33m\u001b[0m\u001b[0m\n",
      "\u001b[1;31mIndexError\u001b[0m: list index out of range"
     ]
    }
   ],
   "source": [
    "if(uploader.data[0]!=None):   \n",
    "    with open(\"input.jpg\", \"w+b\") as i:\n",
    "        i.write(uploader.data[0])\n",
    "\n",
    "    from tensorflow.keras.preprocessing import image\n",
    "    user_img = image.load_img('input.jpg',target_size = (100,100))\n",
    "\n",
    "    input_arr = keras.utils.img_to_array(user_img)\n",
    "    input_arr = np.array([input_arr])  # Convert single image to a batch.\n",
    "\n",
    "    model = load_model(\"AllClassification.h5\")\n",
    "    predictions = model.predict(input_arr)\n",
    "    preds_idx = np.argmax(predictions, axis=1)\n",
    "\n",
    "    path_to_test = \"D:\\BE\\BE-DATA\\SEM-1\\BE Project\\Dataset\\\\all\\Test\"\n",
    "\n",
    "\n",
    "    fruit=os.listdir(path_to_test)[preds_idx[0]]\n",
    "\n",
    "    if(preds_idx[0]==0):\n",
    "        model_path=\"Apple.h5\"\n",
    "        path_to_test = \"D:\\BE\\BE-DATA\\SEM-1\\BE Project\\Dataset\\\\apple\\Test\"\n",
    "    else:\n",
    "        model_path=\"Guava.h5\"\n",
    "        path_to_test = \"D:\\BE\\BE-DATA\\SEM-1\\BE Project\\Dataset\\\\guava\\Test\"\n",
    "\n",
    "\n",
    "    model = load_model(model_path)\n",
    "    predictions = model.predict(input_arr)\n",
    "    preds_idx = np.argmax(predictions, axis=1)\n",
    "    print(\"Fruit Name: \",fruit)\n",
    "    print(\"Detected Disease is: \",os.listdir(path_to_test)[preds_idx[0]])"
   ]
  },
  {
   "cell_type": "code",
   "execution_count": null,
   "id": "a94e0a59",
   "metadata": {},
   "outputs": [],
   "source": []
  }
 ],
 "metadata": {
  "kernelspec": {
   "display_name": "Python 3 (ipykernel)",
   "language": "python",
   "name": "python3"
  },
  "language_info": {
   "codemirror_mode": {
    "name": "ipython",
    "version": 3
   },
   "file_extension": ".py",
   "mimetype": "text/x-python",
   "name": "python",
   "nbconvert_exporter": "python",
   "pygments_lexer": "ipython3",
   "version": "3.9.7"
  }
 },
 "nbformat": 4,
 "nbformat_minor": 5
}
